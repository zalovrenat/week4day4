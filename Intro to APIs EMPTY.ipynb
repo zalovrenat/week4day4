{
 "cells": [
  {
   "cell_type": "markdown",
   "id": "7196054f",
   "metadata": {},
   "source": [
    "# Working with APIs"
   ]
  },
  {
   "cell_type": "markdown",
   "id": "0547b71e",
   "metadata": {},
   "source": [
    "API stands for Application programming interface<br>\n",
    "APIs are a way for applications to talk to eachother<br>\n",
    "In python we use the requests package to handle the connection<br>\n",
    "<small><strong>Note: It is requests with an s not request(this is a different package)</strong></small><br>\n",
    "Most API's communicate with data in the form of JSON<br>\n",
    "JSON stands for JavaScript Object Notation"
   ]
  },
  {
   "cell_type": "code",
   "execution_count": 2,
   "id": "4db9d154",
   "metadata": {},
   "outputs": [],
   "source": [
    "#import the packages we need:\n",
    "import requests as r"
   ]
  },
  {
   "cell_type": "markdown",
   "id": "e8c2ce51",
   "metadata": {},
   "source": [
    "We will be connecting to the Ergast F1 Racer API today:\n",
    "http://ergast.com/mrd/\n",
    "\n",
    "to view JSON data nicely in the Chrome browser install the extension JSONview"
   ]
  },
  {
   "cell_type": "code",
   "execution_count": 4,
   "id": "52c440c6",
   "metadata": {},
   "outputs": [
    {
     "name": "stdout",
     "output_type": "stream",
     "text": [
      "<Response [200]>\n",
      "<class 'requests.models.Response'>\n"
     ]
    }
   ],
   "source": [
    "res = r.get('https://ergast.com/api/f1/2022/5/driverStandings.json')\n",
    "\n",
    "print(res)\n",
    "print(type(res))\n",
    "\n",
    "res.ok\n",
    "\n",
    "# r.post()"
   ]
  },
  {
   "cell_type": "code",
   "execution_count": 5,
   "id": "f60c1b4a",
   "metadata": {},
   "outputs": [
    {
     "data": {
      "text/plain": [
       "200"
      ]
     },
     "execution_count": 5,
     "metadata": {},
     "output_type": "execute_result"
    }
   ],
   "source": [
    "res.status_code"
   ]
  },
  {
   "cell_type": "code",
   "execution_count": 7,
   "id": "7b63a204",
   "metadata": {},
   "outputs": [
    {
     "name": "stdout",
     "output_type": "stream",
     "text": [
      "True\n"
     ]
    }
   ],
   "source": [
    "#response object\n",
    "print(res.ok)\n",
    "\n",
    "if res.status_code == 200:\n",
    "    data = res.json()\n",
    "elif res.status_code == 500:\n",
    "    print('oof')"
   ]
  },
  {
   "cell_type": "code",
   "execution_count": 9,
   "id": "c6d1fdaf",
   "metadata": {},
   "outputs": [
    {
     "name": "stdout",
     "output_type": "stream",
     "text": [
      "Charles Leclerc came in position 1\n",
      "Max Verstappen came in position 2\n",
      "Sergio Pérez came in position 3\n",
      "George Russell came in position 4\n",
      "Carlos Sainz came in position 5\n",
      "Lewis Hamilton came in position 6\n",
      "Lando Norris came in position 7\n",
      "Valtteri Bottas came in position 8\n",
      "Esteban Ocon came in position 9\n",
      "Kevin Magnussen came in position 10\n",
      "Daniel Ricciardo came in position 11\n",
      "Yuki Tsunoda came in position 12\n",
      "Pierre Gasly came in position 13\n",
      "Sebastian Vettel came in position 14\n",
      "Alexander Albon came in position 15\n",
      "Fernando Alonso came in position 16\n",
      "Lance Stroll came in position 17\n",
      "Guanyu Zhou came in position 18\n",
      "Mick Schumacher came in position 19\n",
      "Nico Hülkenberg came in position 20\n",
      "Nicholas Latifi came in position 21\n"
     ]
    }
   ],
   "source": [
    "#check and make sure we got a successful response from the API\n",
    "driver_standings = data['MRData']['StandingsTable']['StandingsLists'][0]['DriverStandings']\n",
    "# print(driver_standings)\n",
    "for item in driver_standings:\n",
    "    first_name = item['Driver']['givenName']\n",
    "    last_name = item['Driver']['familyName']\n",
    "    position = item['position']\n",
    "    sentence = f'{first_name} {last_name} came in position {position}'\n",
    "    print(sentence)"
   ]
  },
  {
   "cell_type": "code",
   "execution_count": 4,
   "id": "ed4d3256",
   "metadata": {},
   "outputs": [],
   "source": [
    "#view the response as a JSON\n"
   ]
  },
  {
   "cell_type": "code",
   "execution_count": 11,
   "id": "92e6cd2c",
   "metadata": {},
   "outputs": [],
   "source": [
    "def getRacerInfo(year,race):\n",
    "    res = r.get(f'https://ergast.com/api/f1/{year}/{race}/driverStandings.json')\n",
    "    if res.ok:\n",
    "        data = res.json()\n",
    "        driver_standings = data['MRData']['StandingsTable']['StandingsLists'][0]['DriverStandings']\n",
    "        for item in driver_standings:\n",
    "            first_name = item['Driver']['givenName']\n",
    "            last_name = item['Driver']['familyName']\n",
    "            position = item['position']\n",
    "            sentence = f'{first_name} {last_name} came in position {position}'\n",
    "            print(sentence)\n",
    "    else:\n",
    "        print('Invalid year/race combination')"
   ]
  },
  {
   "cell_type": "code",
   "execution_count": 16,
   "id": "bd3c4f5d",
   "metadata": {},
   "outputs": [
    {
     "name": "stdout",
     "output_type": "stream",
     "text": [
      "Michael Schumacher came in position 1\n",
      "Eddie Irvine came in position 2\n",
      "Mika Häkkinen came in position 3\n",
      "Heinz-Harald Frentzen came in position 4\n",
      "Ralf Schumacher came in position 5\n",
      "David Coulthard came in position 6\n",
      "Rubens Barrichello came in position 7\n",
      "Giancarlo Fisichella came in position 8\n",
      "Damon Hill came in position 9\n",
      "Jean Alesi came in position 10\n",
      "Pedro de la Rosa came in position 11\n",
      "Olivier Panis came in position 12\n",
      "Toranosuke Takagi came in position 13\n",
      "Mika Salo came in position 14\n",
      "Alexander Wurz came in position 15\n",
      "Luca Badoer came in position 16\n",
      "Marc Gené came in position 17\n",
      "Johnny Herbert came in position 18\n",
      "Alessandro Zanardi came in position 19\n"
     ]
    }
   ],
   "source": [
    "getRacerInfo(1999,3)"
   ]
  },
  {
   "cell_type": "code",
   "execution_count": 15,
   "id": "f538abf2",
   "metadata": {},
   "outputs": [
    {
     "name": "stdout",
     "output_type": "stream",
     "text": [
      "Sebastian Vettel came in position 1\n",
      "Lewis Hamilton came in position 2\n",
      "Kimi Räikkönen came in position 3\n",
      "Daniel Ricciardo came in position 4\n",
      "Fernando Alonso came in position 5\n",
      "Max Verstappen came in position 6\n",
      "Nico Hülkenberg came in position 7\n",
      "Valtteri Bottas came in position 8\n",
      "Stoffel Vandoorne came in position 9\n",
      "Carlos Sainz came in position 10\n",
      "Sergio Pérez came in position 11\n",
      "Esteban Ocon came in position 12\n",
      "Charles Leclerc came in position 13\n",
      "Lance Stroll came in position 14\n",
      "Brendon Hartley came in position 15\n",
      "Romain Grosjean came in position 16\n",
      "Kevin Magnussen came in position 17\n",
      "Pierre Gasly came in position 18\n",
      "Marcus Ericsson came in position 19\n",
      "Sergey Sirotkin came in position 20\n"
     ]
    }
   ],
   "source": [
    "getRacerInfo(2018,1)"
   ]
  },
  {
   "cell_type": "code",
   "execution_count": 5,
   "id": "f074dfcf",
   "metadata": {},
   "outputs": [],
   "source": [
    "# We only want the Driver Standings\n"
   ]
  },
  {
   "cell_type": "code",
   "execution_count": null,
   "id": "be46a950",
   "metadata": {},
   "outputs": [],
   "source": []
  },
  {
   "cell_type": "code",
   "execution_count": null,
   "id": "3740c752",
   "metadata": {},
   "outputs": [],
   "source": []
  },
  {
   "cell_type": "markdown",
   "id": "6d546014",
   "metadata": {},
   "source": [
    "# <strong>Homework</strong>\n",
    "check out this Pokemon API https://pokeapi.co/\n",
    "Use the requests package to connect to this API and get and store data for 5 different pokemon.\n",
    "Get the pokemons: name, atleast one ability's name, base_experience, and the URL for its sprite (an image that shows up on screen) for the 'front_shiny', attack base_state, hp base_stat, defense base_stat"
   ]
  },
  {
   "cell_type": "code",
   "execution_count": 34,
   "id": "5a9081e3",
   "metadata": {},
   "outputs": [
    {
     "name": "stdout",
     "output_type": "stream",
     "text": [
      "pikachu:\n",
      " {'name': 'pikachu', 'ability 1': 'static', 'ability 2': 'lightning-rod', 'base experience': 112, 'sprite url': 'https://raw.githubusercontent.com/PokeAPI/sprites/master/sprites/pokemon/shiny/25.png', 'attack base stat': 55, 'hp base stat': 35, 'defense base stat': 40} \n",
      "\n",
      "\n",
      "charizard\n",
      " {'name': 'charizard', 'ability 1': 'blaze', 'ability 2': 'solar-power', 'base experience': 267, 'sprite url': 'https://raw.githubusercontent.com/PokeAPI/sprites/master/sprites/pokemon/shiny/6.png', 'attack base stat': 84, 'hp base stat': 78, 'defense base stat': 78} \n",
      "\n",
      "\n",
      "mew\n",
      " {'name': 'mew', 'ability 1': 'synchronize', 'base experience': 300, 'sprite url': 'https://raw.githubusercontent.com/PokeAPI/sprites/master/sprites/pokemon/shiny/151.png', 'attack base stat': 100, 'hp base stat': 100, 'defense base stat': 100} \n",
      "\n",
      "\n",
      "squirtle\n",
      " {'name': 'squirtle', 'ability 1': 'torrent', 'ability 2': 'rain-dish', 'base experience': 63, 'sprite url': 'https://raw.githubusercontent.com/PokeAPI/sprites/master/sprites/pokemon/shiny/7.png', 'attack base stat': 48, 'hp base stat': 44, 'defense base stat': 65} \n",
      "\n",
      "\n",
      "magikarp\n",
      " {'name': 'magikarp', 'ability 1': 'swift-swim', 'ability 2': 'rattled', 'base experience': 40, 'sprite url': 'https://raw.githubusercontent.com/PokeAPI/sprites/master/sprites/pokemon/shiny/129.png', 'attack base stat': 10, 'hp base stat': 20, 'defense base stat': 55} \n",
      "\n",
      "\n"
     ]
    }
   ],
   "source": [
    "def get_pokemon_info(pokemon_name):\n",
    "    res = r.get(f'https://pokeapi.co/api/v2/pokemon/{pokemon_name}')\n",
    "    if res.ok:\n",
    "        data = res.json()\n",
    "        pokemon_data = dict()\n",
    "        pokemon_data['name'] = data['forms'][0]['name']\n",
    "        i = 1\n",
    "        for ability in data['abilities']:\n",
    "            pokemon_data['ability' + ' ' + str(i)] = ability['ability']['name']\n",
    "            i += 1\n",
    "        i = 1\n",
    "        pokemon_data['base experience'] = data['base_experience']\n",
    "        pokemon_data['sprite url'] = data['sprites']['front_shiny']\n",
    "        pokemon_data['attack base stat'] = data['stats'][1]['base_stat']\n",
    "        pokemon_data['hp base stat'] = data['stats'][0]['base_stat']\n",
    "        pokemon_data['defense base stat'] = data['stats'][2]['base_stat']\n",
    "        return pokemon_data\n",
    "        \n",
    "    else:\n",
    "        print('That is not a valid pokemon name. Please see a list of pokemon names here:\\nhttps://bulbapedia.bulbagarden.net/wiki/List_of_Pok%C3%A9mon_by_National_Pok%C3%A9dex_number')\n",
    "\n",
    "pikachu = get_pokemon_info('pikachu')\n",
    "charizard = get_pokemon_info('charizard')\n",
    "mew = get_pokemon_info('mew')\n",
    "squirtle = get_pokemon_info('squirtle')\n",
    "magikarp = get_pokemon_info('magikarp')\n",
    "\n",
    "print('pikachu:\\n',pikachu,'\\n\\n')\n",
    "print('charizard\\n',charizard,'\\n\\n')\n",
    "print('mew\\n',mew,'\\n\\n')\n",
    "print('squirtle\\n',squirtle,'\\n\\n')\n",
    "print('magikarp\\n',magikarp,'\\n\\n')"
   ]
  },
  {
   "cell_type": "code",
   "execution_count": null,
   "id": "18c5abb6",
   "metadata": {},
   "outputs": [],
   "source": []
  }
 ],
 "metadata": {
  "kernelspec": {
   "display_name": "Python 3 (ipykernel)",
   "language": "python",
   "name": "python3"
  },
  "language_info": {
   "codemirror_mode": {
    "name": "ipython",
    "version": 3
   },
   "file_extension": ".py",
   "mimetype": "text/x-python",
   "name": "python",
   "nbconvert_exporter": "python",
   "pygments_lexer": "ipython3",
   "version": "3.10.9"
  }
 },
 "nbformat": 4,
 "nbformat_minor": 5
}
